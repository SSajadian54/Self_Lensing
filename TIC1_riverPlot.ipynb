{
 "cells": [
  {
   "cell_type": "code",
   "execution_count": 1,
   "id": "c4f0d7f0-04d0-4a4a-b73b-d453af1725e9",
   "metadata": {},
   "outputs": [],
   "source": [
    "import matplotlib\n",
    "import matplotlib.pyplot as plt\n",
    "import numpy as np\n",
    "import pandas as pd\n",
    "import scipy.io\n",
    "import lightkurve as lk\n",
    "from matplotlib import rc\n",
    "rc('font', **{'family':'serif','serif':['Helvetica']})\n",
    "rc('text', usetex=True)\n",
    "plt.rcParams.update({'font.size': 14})"
   ]
  },
  {
   "cell_type": "code",
   "execution_count": 2,
   "id": "50295811-7404-47ad-85f9-05619e725d80",
   "metadata": {},
   "outputs": [],
   "source": [
    "#lc = tpf[2].to_lightcurve(aperture_mask='all')\n",
    "#lc.plot()"
   ]
  },
  {
   "cell_type": "code",
   "execution_count": 3,
   "id": "f2139f11-0e18-40ba-a143-02abb585ffcf",
   "metadata": {},
   "outputs": [
    {
     "data": {
      "text/html": [
       "<div><i>TessLightCurve length=8054 LABEL=&quot;TIC 153123772&quot; SECTOR=33 AUTHOR=SPOC FLUX_ORIGIN=pdcsap_flux</i>\n",
       "<table id=\"table140451231944032\" class=\"table-striped table-bordered table-condensed\">\n",
       "<thead><tr><th>time</th><th>flux</th><th>flux_err</th><th>timecorr</th><th>cadenceno</th><th>centroid_col</th><th>centroid_row</th><th>sap_flux</th><th>sap_flux_err</th><th>sap_bkg</th><th>sap_bkg_err</th><th>pdcsap_flux</th><th>pdcsap_flux_err</th><th>quality</th><th>psf_centr1</th><th>psf_centr1_err</th><th>psf_centr2</th><th>psf_centr2_err</th><th>mom_centr1</th><th>mom_centr1_err</th><th>mom_centr2</th><th>mom_centr2_err</th><th>pos_corr1</th><th>pos_corr2</th></tr></thead>\n",
       "<thead><tr><th></th><th></th><th></th><th>d</th><th></th><th>pix</th><th>pix</th><th>electron / s</th><th>electron / s</th><th>electron / s</th><th>electron / s</th><th>electron / s</th><th>electron / s</th><th></th><th>pix</th><th>pix</th><th>pix</th><th>pix</th><th>pix</th><th>pix</th><th>pix</th><th>pix</th><th>pix</th><th>pix</th></tr></thead>\n",
       "<thead><tr><th>Time</th><th>float32</th><th>float32</th><th>float32</th><th>int32</th><th>float64</th><th>float64</th><th>float32</th><th>float32</th><th>float32</th><th>float32</th><th>float32</th><th>float32</th><th>int32</th><th>float64</th><th>float32</th><th>float64</th><th>float32</th><th>float64</th><th>float32</th><th>float64</th><th>float32</th><th>float32</th><th>float32</th></tr></thead>\n",
       "<tr><td>1468.3064239016753</td><td>9.9527305e-01</td><td>4.1202354e-04</td><td>3.8029503e-03</td><td>11560</td><td>1704.36778</td><td>1004.91669</td><td>7.0200977e+03</td><td>2.7725370e+00</td><td>1.0860192e+03</td><td>1.0667655e+00</td><td>7.9982578e+03</td><td>3.3111219e+00</td><td>0</td><td>———</td><td>———</td><td>———</td><td>———</td><td>1704.36778</td><td>2.9183377e-04</td><td>1004.91669</td><td>2.9759045e-04</td><td>1.7502768e-02</td><td>-2.4648916e-02</td></tr>\n",
       "<tr><td>1468.3272573954252</td><td>9.9561495e-01</td><td>4.1193530e-04</td><td>3.8031193e-03</td><td>11561</td><td>1704.36839</td><td>1004.91769</td><td>7.0238159e+03</td><td>2.7719436e+00</td><td>1.0862620e+03</td><td>1.0638357e+00</td><td>8.0010054e+03</td><td>3.3104129e+00</td><td>0</td><td>———</td><td>———</td><td>———</td><td>———</td><td>1704.36839</td><td>2.9165272e-04</td><td>1004.91769</td><td>2.9741260e-04</td><td>1.8511789e-02</td><td>-2.3870818e-02</td></tr>\n",
       "<tr><td>1468.3480908887088</td><td>9.9581397e-01</td><td>4.1206510e-04</td><td>3.8032879e-03</td><td>11562</td><td>1704.36882</td><td>1004.91642</td><td>7.0236074e+03</td><td>2.7728167e+00</td><td>1.0864255e+03</td><td>1.0636119e+00</td><td>8.0026045e+03</td><td>3.3114560e+00</td><td>0</td><td>———</td><td>———</td><td>———</td><td>———</td><td>1704.36882</td><td>2.9174302e-04</td><td>1004.91642</td><td>2.9766446e-04</td><td>1.8948594e-02</td><td>-2.5356350e-02</td></tr>\n",
       "<tr><td>1468.3689243808287</td><td>9.9642819e-01</td><td>4.1197182e-04</td><td>3.8034553e-03</td><td>11563</td><td>1704.37019</td><td>1004.91813</td><td>7.0276191e+03</td><td>2.7721891e+00</td><td>1.0838252e+03</td><td>1.0637447e+00</td><td>8.0075405e+03</td><td>3.3107064e+00</td><td>0</td><td>———</td><td>———</td><td>———</td><td>———</td><td>1704.37019</td><td>2.9171395e-04</td><td>1004.91813</td><td>2.9719574e-04</td><td>2.0482592e-02</td><td>-2.2824815e-02</td></tr>\n",
       "<tr><td>1468.4105913629735</td><td>9.9756551e-01</td><td>4.1204059e-04</td><td>3.8037880e-03</td><td>11565</td><td>1704.36962</td><td>1004.91517</td><td>7.0289126e+03</td><td>2.7726517e+00</td><td>1.0865122e+03</td><td>1.0636538e+00</td><td>8.0166807e+03</td><td>3.3112590e+00</td><td>0</td><td>———</td><td>———</td><td>———</td><td>———</td><td>1704.36962</td><td>2.9152806e-04</td><td>1004.91517</td><td>2.9757753e-04</td><td>1.9455979e-02</td><td>-2.6622795e-02</td></tr>\n",
       "<tr><td>...</td><td>...</td><td>...</td><td>...</td><td>...</td><td>...</td><td>...</td><td>...</td><td>...</td><td>...</td><td>...</td><td>...</td><td>...</td><td>...</td><td>...</td><td>...</td><td>...</td><td>...</td><td>...</td><td>...</td><td>...</td><td>...</td><td>...</td><td>...</td></tr>\n",
       "<tr><td>2227.5349394221757</td><td>9.9974430e-01</td><td>6.8936765e-04</td><td>3.4811043e-03</td><td>144010</td><td>928.81079</td><td>924.96681</td><td>7.0076387e+03</td><td>4.6476307e+00</td><td>1.0294551e+03</td><td>1.6277947e+00</td><td>7.9679351e+03</td><td>5.4942417e+00</td><td>0</td><td>———</td><td>———</td><td>———</td><td>———</td><td>928.81079</td><td>5.0772581e-04</td><td>924.96681</td><td>5.1075796e-04</td><td>-3.1337898e-02</td><td>1.8822709e-02</td></tr>\n",
       "<tr><td>2227.541883644891</td><td>9.9941075e-01</td><td>6.8970746e-04</td><td>3.4808856e-03</td><td>144011</td><td>928.81086</td><td>924.96938</td><td>7.0051465e+03</td><td>4.6499219e+00</td><td>1.0309960e+03</td><td>1.6277368e+00</td><td>7.9652769e+03</td><td>5.4969501e+00</td><td>0</td><td>———</td><td>———</td><td>———</td><td>———</td><td>928.81086</td><td>5.0845434e-04</td><td>924.96938</td><td>5.1141647e-04</td><td>-3.0785665e-02</td><td>2.1033484e-02</td></tr>\n",
       "<tr><td>2227.548827867838</td><td>1.0002817e+00</td><td>6.8974536e-04</td><td>3.4806672e-03</td><td>144012</td><td>928.81128</td><td>924.96699</td><td>7.0107407e+03</td><td>4.6501770e+00</td><td>1.0272357e+03</td><td>1.6264564e+00</td><td>7.9722178e+03</td><td>5.4972520e+00</td><td>0</td><td>———</td><td>———</td><td>———</td><td>———</td><td>928.81128</td><td>5.0773105e-04</td><td>924.96699</td><td>5.1121914e-04</td><td>-3.2181311e-02</td><td>1.9198403e-02</td></tr>\n",
       "<tr><td>2227.555772090552</td><td>9.9967492e-01</td><td>6.8990444e-04</td><td>3.4804486e-03</td><td>144013</td><td>928.81175</td><td>924.96749</td><td>7.0084966e+03</td><td>4.6512499e+00</td><td>1.0307437e+03</td><td>1.6289719e+00</td><td>7.9673823e+03</td><td>5.4985199e+00</td><td>0</td><td>———</td><td>———</td><td>———</td><td>———</td><td>928.81175</td><td>5.0806702e-04</td><td>924.96749</td><td>5.1136356e-04</td><td>-3.1750869e-02</td><td>1.9178363e-02</td></tr>\n",
       "<tr><td>2227.562716313267</td><td>1.0013913e+00</td><td>6.8984547e-04</td><td>3.4802300e-03</td><td>144014</td><td>928.80953</td><td>924.96486</td><td>7.0211006e+03</td><td>4.6508522e+00</td><td>1.0273669e+03</td><td>1.6264588e+00</td><td>7.9810615e+03</td><td>5.4980497e+00</td><td>0</td><td>———</td><td>———</td><td>———</td><td>———</td><td>928.80953</td><td>5.0713198e-04</td><td>924.96486</td><td>5.1039533e-04</td><td>-3.4119152e-02</td><td>1.5718535e-02</td></tr>\n",
       "<tr><td>2227.5696605359817</td><td>1.0006453e+00</td><td>6.8984757e-04</td><td>3.4800114e-03</td><td>144015</td><td>928.80909</td><td>924.96687</td><td>7.0152773e+03</td><td>4.6508660e+00</td><td>1.0303423e+03</td><td>1.6304735e+00</td><td>7.9751162e+03</td><td>5.4980664e+00</td><td>0</td><td>———</td><td>———</td><td>———</td><td>———</td><td>928.80909</td><td>5.0768710e-04</td><td>924.96687</td><td>5.1017717e-04</td><td>-3.3753980e-02</td><td>1.7836681e-02</td></tr>\n",
       "</table></div>"
      ],
      "text/plain": [
       "<TessLightCurve length=8054 LABEL=\"TIC 153123772\" SECTOR=33 AUTHOR=SPOC FLUX_ORIGIN=pdcsap_flux>\n",
       "       time             flux         flux_err       timecorr    cadenceno  ... mom_centr2 mom_centr2_err   pos_corr1      pos_corr2   \n",
       "                                                       d                   ...    pix          pix            pix            pix      \n",
       "       Time           float32        float32        float32       int32    ...  float64      float32        float32        float32    \n",
       "------------------ -------------- -------------- -------------- ---------- ... ---------- -------------- -------------- --------------\n",
       "1468.3064239016753  9.9527305e-01  4.1202354e-04  3.8029503e-03      11560 ... 1004.91669  2.9759045e-04  1.7502768e-02 -2.4648916e-02\n",
       "1468.3272573954252  9.9561495e-01  4.1193530e-04  3.8031193e-03      11561 ... 1004.91769  2.9741260e-04  1.8511789e-02 -2.3870818e-02\n",
       "1468.3480908887088  9.9581397e-01  4.1206510e-04  3.8032879e-03      11562 ... 1004.91642  2.9766446e-04  1.8948594e-02 -2.5356350e-02\n",
       "1468.3689243808287  9.9642819e-01  4.1197182e-04  3.8034553e-03      11563 ... 1004.91813  2.9719574e-04  2.0482592e-02 -2.2824815e-02\n",
       "1468.4105913629735  9.9756551e-01  4.1204059e-04  3.8037880e-03      11565 ... 1004.91517  2.9757753e-04  1.9455979e-02 -2.6622795e-02\n",
       "               ...            ...            ...            ...        ... ...        ...            ...            ...            ...\n",
       "2227.5349394221757  9.9974430e-01  6.8936765e-04  3.4811043e-03     144010 ...  924.96681  5.1075796e-04 -3.1337898e-02  1.8822709e-02\n",
       " 2227.541883644891  9.9941075e-01  6.8970746e-04  3.4808856e-03     144011 ...  924.96938  5.1141647e-04 -3.0785665e-02  2.1033484e-02\n",
       " 2227.548827867838  1.0002817e+00  6.8974536e-04  3.4806672e-03     144012 ...  924.96699  5.1121914e-04 -3.2181311e-02  1.9198403e-02\n",
       " 2227.555772090552  9.9967492e-01  6.8990444e-04  3.4804486e-03     144013 ...  924.96749  5.1136356e-04 -3.1750869e-02  1.9178363e-02\n",
       " 2227.562716313267  1.0013913e+00  6.8984547e-04  3.4802300e-03     144014 ...  924.96486  5.1039533e-04 -3.4119152e-02  1.5718535e-02\n",
       "2227.5696605359817  1.0006453e+00  6.8984757e-04  3.4800114e-03     144015 ...  924.96687  5.1017717e-04 -3.3753980e-02  1.7836681e-02"
      ]
     },
     "execution_count": 3,
     "metadata": {},
     "output_type": "execute_result"
    }
   ],
   "source": [
    "#lc=lk.search_lightcurve('TIC 153123772', mission='Tess', author='TESS-SPOC').download_all().stitch()\n",
    "lc=lk.search_lightcurve('TIC 153123772', mission='Tess',author=\"TESS-SPOC\").download_all(flux_column='pdcsap_flux').stitch()\n",
    "lc"
   ]
  },
  {
   "cell_type": "code",
   "execution_count": null,
   "id": "c491fa78-4db7-4da6-b03b-2945148e5a62",
   "metadata": {},
   "outputs": [],
   "source": []
  },
  {
   "cell_type": "code",
   "execution_count": null,
   "id": "d9de67f8-b6ab-416e-9e3d-758995284244",
   "metadata": {},
   "outputs": [],
   "source": [
    "search_result = lk.search_lightcurve('TIC 153123772', mission='Tess',author=\"TESS-SPOC\")\n",
    "lc_collection = search_result[1:].download_all(flux_column='pdcsap_flux').stitch()\n",
    "lc=lc_collection\n",
    "p, t0 = 11.393, 2209.3\n",
    "foldlc = lc.fold(period=p, epoch_time=None)\n",
    "#ax1=plt.subplots(figsize=(8, 6))\n",
    "foldlc.plot_river( bin_points=5, method='median')\n",
    "fig=plt.gcf()\n",
    "fig.tight_layout(pad=0.0)\n",
    "fig.savefig(\"riverplot.jpg\", dpi=200)\n",
    "\n"
   ]
  }
 ],
 "metadata": {
  "kernelspec": {
   "display_name": "Python 3 (ipykernel)",
   "language": "python",
   "name": "python3"
  },
  "language_info": {
   "codemirror_mode": {
    "name": "ipython",
    "version": 3
   },
   "file_extension": ".py",
   "mimetype": "text/x-python",
   "name": "python",
   "nbconvert_exporter": "python",
   "pygments_lexer": "ipython3",
   "version": "3.9.16"
  }
 },
 "nbformat": 4,
 "nbformat_minor": 5
}
